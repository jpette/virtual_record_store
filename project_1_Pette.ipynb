{
 "cells": [
  {
   "cell_type": "code",
   "execution_count": 5,
   "metadata": {},
   "outputs": [],
   "source": [
    "import webbrowser\n",
    "\n",
    "class RecordStore():\n",
    "    \"\"\"Representation of a record store owner, manager, or employee.\"\"\"\n",
    "\n",
    "    def __init__(self, name, register):\n",
    "        self.name = name\n",
    "        self.register = register\n",
    "        self.inventory = []\n",
    "\n",
    "    def __str__(self):\n",
    "        return f'{self.name}'\n",
    " \n",
    "    def __repr__(self):\n",
    "        return self.__str__() \n",
    "    \n",
    "    def add_to_inventory(self, Music):\n",
    "        self.inventory.append(Music)\n",
    "\n",
    "class Customer():\n",
    "    \"\"\"Representation of a record store shopper.\"\"\"\n",
    "\n",
    "    shopping_cart = []\n",
    "        \n",
    "    def __init__(self, name, cash, credit):\n",
    "        self.name = name\n",
    "        self.cash = cash\n",
    "        self.credit = credit\n",
    "\n",
    "    def __str__(self):\n",
    "        return f'{self.name}'\n",
    " \n",
    "    def __repr__(self):\n",
    "        return self.__str__() \n",
    "    \n",
    "    def browse(self, RecordStore):\n",
    "        browse_choice = input(\"Which genre would you like to explore: [a]ll, [r]ock, [s]ka/reggae, or [so]ul/r&b?\")\n",
    "        if browse_choice == \"r\":\n",
    "            inv_select = [item for item in RecordStore.inventory if RecordStore.inventory[x].genre == \"rock\"]\n",
    "        for x in range(len(inv_select)):\n",
    "            print(\"-----\")\n",
    "            print(inv_select[x].artist)\n",
    "            print(inv_select[x].title)\n",
    "            print(inv_select[x].details)\n",
    "            print(\"Price: $\", inv_select[x].price)\n",
    "            browse_next = input(\"Would you like to [c]ontinue browsing, [a]dd item to your cart, or [e]xit?\")\n",
    "            if browse_next == \"c\":\n",
    "                continue\n",
    "            elif browse_next == \"a\":\n",
    "                self.add_to_cart(RecordStore.inventory[x])\n",
    "                continue\n",
    "            else:\n",
    "                break\n",
    "\n",
    "    def add_to_cart(self, Music):\n",
    "        self.shopping_cart.append(Music)\n",
    "        \n",
    "    def subtotal(self, Music):\n",
    "        subtotal = [x.price for x in self.shopping_cart]\n",
    "        return sum(subtotal)\n",
    "    \n",
    "    #def check_out(self, RecordStore):\n",
    "        \n",
    "        \n",
    "class Music():\n",
    "    \n",
    "    stock = 0\n",
    "    \n",
    "    def __init__(self, name, price):\n",
    "        Music.stock += 1\n",
    "        self.name = name\n",
    "        self.price = price\n",
    "\n",
    "    def __eq__(self, other):\n",
    "        if self is other:\n",
    "            return True\n",
    "        elif type(self) != type(other):\n",
    "            return False\n",
    "        else:\n",
    "            return self.name == other.name\n",
    "\n",
    "    def __lt__(self, other):\n",
    "        return self.name < other.name\n",
    "\n",
    "    def __gt__(self, other):\n",
    "        return self.name > other.name\n",
    "    \n",
    "class Record(Music):\n",
    "    \"\"\"Representation of a physical vinyl record. Child class of Music.\"\"\"\n",
    "    media_type = 'record'\n",
    "    \n",
    "    def __init__(self, name, price, artist, title, size, genre, details):\n",
    "        Music.__init__(self, name, price)\n",
    "        self.artist = artist\n",
    "        self.title = title\n",
    "        self.size = size\n",
    "        self.genre = genre\n",
    "        self.details = details\n",
    "\n",
    "    def __str__(self):\n",
    "        return f'{self.name}'\n",
    " \n",
    "    def __repr__(self):\n",
    "        return self.__str__() \n",
    "    \n",
    "class Cassette(Music):\n",
    "    \"\"\"Representation of a physical cassette. Child class of Music.\"\"\"\n",
    "    media_type = 'cassette'\n",
    "    \n",
    "    def __init__(self, name, price, artist, title, genre, details):\n",
    "        Music.__init__(self, name, price)\n",
    "        self.artist = artist\n",
    "        self.title = title\n",
    "        self.genre = genre\n",
    "        self.details = details\n",
    "        \n",
    "    def __str__(self):\n",
    "        return f'{self.name}'\n",
    " \n",
    "    def __repr__(self):\n",
    "        return self.__str__() \n",
    "    \n",
    "class CD(Music):\n",
    "    \"\"\"Representation of a physical CD. Child class of Music.\"\"\"\n",
    "    media_type = 'cd'\n",
    "\n",
    "    def __init__(self, name, price, artist, title, genre, details):\n",
    "        Music.__init__(self, name, price)\n",
    "        self.artist = artist\n",
    "        self.title = title\n",
    "        self.genre = genre\n",
    "        self.details = details\n",
    "\n",
    "    def __str__(self):\n",
    "        return f'{self.name}'\n",
    " \n",
    "    def __repr__(self):\n",
    "        return self.__str__()     \n",
    "# webbrowser.open('nirvanableach.jpg')\n",
    "\n",
    "my_store = RecordStore(\"Shattered World\", 2500)\n",
    "\n",
    "# Test inventory items\n",
    "fishbone1 = Record(\"fishbone1\", 15, \"Fishbone\", \"Truth and Soul\", \"LP\", \"rock\", \"Original U.S. pressing.\"),\n",
    "nirvana1 = Record(\"nirvana1\", 240, \"Nirvana\", \"Bleach\", \"LP\", \"rock\", \"Blue vinyl third pressing from 1992.\"),\n",
    "rocket1 = Record(\"rocket1\", 1200, \"Rocket from the Crypt\", \"Rocket Pack\", \"7\\\"\", \"rock\", \"Limited to 75 copies.\"),\n",
    "screaming1 = Cassette(\"screaming1\", 60, \"Screaming Trees\", \"Other Worlds\", \"rock\", \"Original version from 1985, limited to 1000 copies.\"),\n",
    "skatalites1 = Record(\"skatalites1\", 75, \"The Skatalites\", \"SKA Authentic\", \"LP\", \"ska & reggae\", \"Original Jamaican pressing on ND Records. Heavy wear.\"),\n",
    "slackers1 = Record(\"slackers1\", 30, \"The Slackers\", \"Redlilght\", \"LP\", \"ska & reggae\", \"Re-press on color vinyl.\"),\n",
    "starr1 = Record(\"starr1\", 25, \"Edwin Starr\", \"Soul Master\", \"LP\", \"soul\", \"Early Gordy pressing. Some water damage on the sleeve.\")\n",
    "\n",
    "test_inv = [fishbone1, nirvana1, rocket1, screaming1, skatalites1, slackers1, starr1]\n",
    "\n",
    "for item in test_inv:\n",
    "    my_store.add_to_inventory(item)\n"
   ]
  },
  {
   "cell_type": "code",
   "execution_count": null,
   "metadata": {
    "collapsed": true
   },
   "outputs": [],
   "source": [
    "my_store.inventory.sort()"
   ]
  },
  {
   "cell_type": "code",
   "execution_count": null,
   "metadata": {
    "collapsed": true
   },
   "outputs": [],
   "source": [
    "print(my_store.inventory)"
   ]
  },
  {
   "cell_type": "code",
   "execution_count": null,
   "metadata": {
    "collapsed": true
   },
   "outputs": [],
   "source": [
    "print(Music.stock)"
   ]
  },
  {
   "cell_type": "code",
   "execution_count": null,
   "metadata": {
    "collapsed": true
   },
   "outputs": [],
   "source": [
    "type(bleach)"
   ]
  },
  {
   "cell_type": "code",
   "execution_count": null,
   "metadata": {
    "collapsed": true
   },
   "outputs": [],
   "source": [
    "john = Customer(\"John\", 300, 2000)\n"
   ]
  },
  {
   "cell_type": "code",
   "execution_count": null,
   "metadata": {
    "collapsed": true
   },
   "outputs": [],
   "source": [
    "print(bleach.name)"
   ]
  },
  {
   "cell_type": "code",
   "execution_count": null,
   "metadata": {
    "collapsed": true
   },
   "outputs": [],
   "source": [
    "john.add_to_cart(bleach)"
   ]
  },
  {
   "cell_type": "code",
   "execution_count": null,
   "metadata": {
    "collapsed": true
   },
   "outputs": [],
   "source": [
    "john.add_to_cart(rocket)"
   ]
  },
  {
   "cell_type": "code",
   "execution_count": null,
   "metadata": {
    "collapsed": true
   },
   "outputs": [],
   "source": [
    "print(john.shopping_cart)"
   ]
  },
  {
   "cell_type": "code",
   "execution_count": null,
   "metadata": {
    "collapsed": true
   },
   "outputs": [],
   "source": [
    "print(john.subtotal(john.shopping_cart))"
   ]
  },
  {
   "cell_type": "code",
   "execution_count": null,
   "metadata": {
    "collapsed": true
   },
   "outputs": [],
   "source": [
    "print(john.shopping_cart)"
   ]
  },
  {
   "cell_type": "code",
   "execution_count": null,
   "metadata": {
    "collapsed": true
   },
   "outputs": [],
   "source": [
    "john.browse(my_store)"
   ]
  },
  {
   "cell_type": "code",
   "execution_count": null,
   "metadata": {
    "collapsed": true
   },
   "outputs": [],
   "source": []
  }
 ],
 "metadata": {
  "kernelspec": {
   "display_name": "Python 3",
   "language": "python",
   "name": "python3"
  },
  "language_info": {
   "codemirror_mode": {
    "name": "ipython",
    "version": 3
   },
   "file_extension": ".py",
   "mimetype": "text/x-python",
   "name": "python",
   "nbconvert_exporter": "python",
   "pygments_lexer": "ipython3",
   "version": "3.6.3"
  }
 },
 "nbformat": 4,
 "nbformat_minor": 2
}
